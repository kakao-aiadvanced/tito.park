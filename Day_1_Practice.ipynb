{
  "nbformat": 4,
  "nbformat_minor": 0,
  "metadata": {
    "colab": {
      "provenance": [],
      "gpuType": "T4"
    },
    "kernelspec": {
      "name": "python3",
      "display_name": "Python 3"
    },
    "language_info": {
      "name": "python"
    },
    "accelerator": "GPU"
  },
  "cells": [
    {
      "cell_type": "code",
      "source": [
        "from getpass import getpass\n",
        "import os\n",
        "\n",
        "secret = getpass('Enter the openai api key')\n",
        "os.environ[\"OPENAI_API_KEY\"] = secret"
      ],
      "metadata": {
        "colab": {
          "base_uri": "https://localhost:8080/"
        },
        "id": "1NdQeoa4j4WW",
        "outputId": "192602c3-1778-4f37-cb1a-02c64a723f97"
      },
      "execution_count": 17,
      "outputs": [
        {
          "name": "stdout",
          "output_type": "stream",
          "text": [
            "Enter the openai api key··········\n"
          ]
        }
      ]
    },
    {
      "cell_type": "markdown",
      "source": [
        "**실습 (프롬프트 제출 필요)**"
      ],
      "metadata": {
        "id": "VHFIiVBmDVIZ"
      }
    },
    {
      "cell_type": "markdown",
      "source": [
        "위와 같이 (업무와 관련된) 분기 처리가 필요한 태스크를 정의, 이 태스크를 수행하기 위한 프롬프트를 스스로 작성하고, 작성한 프롬프트를 기반으로 프롬프트 생성, 예시문을 1) 스스로 작성 2) 예시문 생성 후 평가하고, 스스로 작성한 프롬프트와 Claude 가 작성한 프롬프트의 답변 결과를 비교해보세요.\n",
        "\n",
        "예시 태스크) 사용자가 입력한 질문을 수학 선생님께 전달해야 할지, 사회 선생님께 전달해야 할지, 둘 다 애매해서 사람이 직접 보고 판단해야 할지 판단\n",
        "- 직접 작성한 프롬프트와 Claude 가 변환한 프롬프트를 비교\n",
        "- 직접 작성한 예시와 Claude 가 작성한 예시를 비교\n",
        "- 직접 작성한 프롬프트를 실행할 때와 Claude 가 작성한 프롬프트를 실행했을 때의 답변 확인 및 평가, 결과 비교"
      ],
      "metadata": {
        "id": "T8qWrhSKG_E6"
      }
    },
    {
      "cell_type": "markdown",
      "source": [
        "## 실습1\n",
        "### 사진 캡쳐\n",
        "- https://drive.google.com/file/d/1qqw1w9Z4mN9z_sia-iaCHCE2ZuJA20ks/view?usp=drive_link"
      ],
      "metadata": {
        "id": "AWiPA5tfhv8N"
      }
    },
    {
      "cell_type": "markdown",
      "source": [
        "# **Prompt Compression**"
      ],
      "metadata": {
        "id": "aPX72P7xY-wm"
      }
    },
    {
      "cell_type": "markdown",
      "source": [
        "Demo site의 예시 prompt 를 compression 라이브러리를 사용하지 않고, 프롬프트 엔지니어링을 이용해 개선해보세요.\n",
        "\n",
        "Demo 프로그램을 이용해 compression 해보세요\n",
        "\n",
        "Demo\n",
        "https://huggingface.co/spaces/microsoft/llmlingua-2"
      ],
      "metadata": {
        "id": "JLR1tvxLZBUU"
      }
    },
    {
      "cell_type": "markdown",
      "source": [
        "Install https://github.com/microsoft/LLMLingua?tab=readme-ov-file#1-installing-llmlingua"
      ],
      "metadata": {
        "id": "OhSId22tZSjE"
      }
    },
    {
      "cell_type": "markdown",
      "source": [
        "Change runtime type (from CPU to T4 GPU)"
      ],
      "metadata": {
        "id": "jRsYfcSLNQj6"
      }
    },
    {
      "cell_type": "markdown",
      "source": [
        "![Screenshot 2024-07-18 at 2.00.08 PM.png](data:image/png;base64,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)"
      ],
      "metadata": {
        "id": "jJCtFpMLNcaG"
      }
    },
    {
      "cell_type": "markdown",
      "source": [
        "Compressed prompt 를 수작업으로 복사 붙여넣지 않아도 되도록, OpenAI API 와 Ollama 의 llama 실행 코드와 결합해보세요."
      ],
      "metadata": {
        "id": "vZ3V8pqYaLAR"
      }
    },
    {
      "cell_type": "markdown",
      "source": [
        "## 실습2-1"
      ],
      "metadata": {
        "id": "vYEYp3okkPSG"
      }
    },
    {
      "cell_type": "markdown",
      "source": [
        "### 데모 프롬프트를 프롬프트 엔지니어링으로 개선\n",
        "#### Demo.\n",
        "```\n",
        "John: So, um, I've been thinking about the project, you know, and I believe we need to, uh, make some changes. I mean, we want the project to succeed, right? So, like, I think we should consider maybe revising the timeline.\n",
        "Sarah: I totally agree, John. I mean, we have to be realistic, you know. The timeline is, like, too tight. You know what I mean? We should definitely extend it.\n",
        "```\n",
        "\n",
        "#### Demo (개선)\n",
        "- 문장을 요약하는 예시인데, 직접 불필요해 보이는 문장들을 삭제(Um, I, what i mean? 등등)\n",
        "- 결과가 동일하게 나오는지 확인은 ChatGPT로 확인\n",
        "\n",
        "\n",
        "```\n",
        "John: I've been thinking about the project, I believe we need to, make some changes. we want the project to succeed, right? So, like, I think we should consider maybe revising the timeline.\n",
        "Sarah: I totally agree, John. we have to be realistic, The timeline is, like, too tight. We should definitely extend it.\n",
        "```\n",
        "\n",
        "```\n",
        "Question: What does Sarah think about the timeline?\n",
        "Answer: Sarah thinks the timeline is too tight and believes it should be extended.\n",
        "```"
      ],
      "metadata": {
        "id": "YlvpcKpLk4HJ"
      }
    },
    {
      "cell_type": "markdown",
      "source": [
        "## 실습2-2\n",
        "### 데모 프롬프트를 데모 프로그램으로 개선\n",
        "#### Demo\n",
        "```\n",
        "John: So, um, I've been thinking about the project, you know, and I believe we need to, uh, make some changes. I mean, we want the project to succeed, right? So, like, I think we should consider maybe revising the timeline.\n",
        "Sarah: I totally agree, John. I mean, we have to be realistic, you know. The timeline is, like, too tight. You know what I mean? We should definitely extend it.\n",
        "```\n",
        "\n",
        "#### Demo (개선)\n",
        "compression rate: 0.7\n",
        "73 token -> 51 token\n",
        "```\n",
        "John : ' been thinking about project, believe we need to, make changes. want project to succeed, right?, like, should consider revising timeline.\n",
        "Sarah : agree, John. to be realistic, timeline, too tight. should extend it.\n",
        "```"
      ],
      "metadata": {
        "id": "XkjYZZ0um1LU"
      }
    },
    {
      "cell_type": "markdown",
      "source": [
        "## 실습2-3\n",
        "Compressed prompt 를 수작업으로 복사 붙여넣지 않아도 되도록, OpenAI API 와 Ollama 의 llama 실행 코드와 결합해보세요."
      ],
      "metadata": {
        "id": "zSietVLSoXFm"
      }
    },
    {
      "cell_type": "code",
      "source": [
        "!pip install llmlingua openai"
      ],
      "metadata": {
        "id": "Y5yCvU0hafnO",
        "colab": {
          "base_uri": "https://localhost:8080/"
        },
        "collapsed": true,
        "outputId": "e4026822-1cba-4722-fcb1-6f70c7d4758c"
      },
      "execution_count": 16,
      "outputs": [
        {
          "output_type": "stream",
          "name": "stdout",
          "text": [
            "Requirement already satisfied: llmlingua in /usr/local/lib/python3.10/dist-packages (0.2.2)\n",
            "Collecting openai\n",
            "  Downloading openai-1.37.1-py3-none-any.whl.metadata (22 kB)\n",
            "Requirement already satisfied: transformers>=4.26.0 in /usr/local/lib/python3.10/dist-packages (from llmlingua) (4.42.4)\n",
            "Requirement already satisfied: accelerate in /usr/local/lib/python3.10/dist-packages (from llmlingua) (0.32.1)\n",
            "Requirement already satisfied: torch in /usr/local/lib/python3.10/dist-packages (from llmlingua) (2.3.1+cu121)\n",
            "Requirement already satisfied: tiktoken in /usr/local/lib/python3.10/dist-packages (from llmlingua) (0.7.0)\n",
            "Requirement already satisfied: nltk in /usr/local/lib/python3.10/dist-packages (from llmlingua) (3.8.1)\n",
            "Requirement already satisfied: numpy in /usr/local/lib/python3.10/dist-packages (from llmlingua) (1.25.2)\n",
            "Requirement already satisfied: anyio<5,>=3.5.0 in /usr/local/lib/python3.10/dist-packages (from openai) (3.7.1)\n",
            "Requirement already satisfied: distro<2,>=1.7.0 in /usr/lib/python3/dist-packages (from openai) (1.7.0)\n",
            "Collecting httpx<1,>=0.23.0 (from openai)\n",
            "  Downloading httpx-0.27.0-py3-none-any.whl.metadata (7.2 kB)\n",
            "Requirement already satisfied: pydantic<3,>=1.9.0 in /usr/local/lib/python3.10/dist-packages (from openai) (2.8.2)\n",
            "Requirement already satisfied: sniffio in /usr/local/lib/python3.10/dist-packages (from openai) (1.3.1)\n",
            "Requirement already satisfied: tqdm>4 in /usr/local/lib/python3.10/dist-packages (from openai) (4.66.4)\n",
            "Requirement already satisfied: typing-extensions<5,>=4.7 in /usr/local/lib/python3.10/dist-packages (from openai) (4.12.2)\n",
            "Requirement already satisfied: idna>=2.8 in /usr/local/lib/python3.10/dist-packages (from anyio<5,>=3.5.0->openai) (3.7)\n",
            "Requirement already satisfied: exceptiongroup in /usr/local/lib/python3.10/dist-packages (from anyio<5,>=3.5.0->openai) (1.2.2)\n",
            "Requirement already satisfied: certifi in /usr/local/lib/python3.10/dist-packages (from httpx<1,>=0.23.0->openai) (2024.7.4)\n",
            "Collecting httpcore==1.* (from httpx<1,>=0.23.0->openai)\n",
            "  Downloading httpcore-1.0.5-py3-none-any.whl.metadata (20 kB)\n",
            "Collecting h11<0.15,>=0.13 (from httpcore==1.*->httpx<1,>=0.23.0->openai)\n",
            "  Downloading h11-0.14.0-py3-none-any.whl.metadata (8.2 kB)\n",
            "Requirement already satisfied: annotated-types>=0.4.0 in /usr/local/lib/python3.10/dist-packages (from pydantic<3,>=1.9.0->openai) (0.7.0)\n",
            "Requirement already satisfied: pydantic-core==2.20.1 in /usr/local/lib/python3.10/dist-packages (from pydantic<3,>=1.9.0->openai) (2.20.1)\n",
            "Requirement already satisfied: filelock in /usr/local/lib/python3.10/dist-packages (from transformers>=4.26.0->llmlingua) (3.15.4)\n",
            "Requirement already satisfied: huggingface-hub<1.0,>=0.23.2 in /usr/local/lib/python3.10/dist-packages (from transformers>=4.26.0->llmlingua) (0.23.5)\n",
            "Requirement already satisfied: packaging>=20.0 in /usr/local/lib/python3.10/dist-packages (from transformers>=4.26.0->llmlingua) (24.1)\n",
            "Requirement already satisfied: pyyaml>=5.1 in /usr/local/lib/python3.10/dist-packages (from transformers>=4.26.0->llmlingua) (6.0.1)\n",
            "Requirement already satisfied: regex!=2019.12.17 in /usr/local/lib/python3.10/dist-packages (from transformers>=4.26.0->llmlingua) (2024.5.15)\n",
            "Requirement already satisfied: requests in /usr/local/lib/python3.10/dist-packages (from transformers>=4.26.0->llmlingua) (2.31.0)\n",
            "Requirement already satisfied: safetensors>=0.4.1 in /usr/local/lib/python3.10/dist-packages (from transformers>=4.26.0->llmlingua) (0.4.3)\n",
            "Requirement already satisfied: tokenizers<0.20,>=0.19 in /usr/local/lib/python3.10/dist-packages (from transformers>=4.26.0->llmlingua) (0.19.1)\n",
            "Requirement already satisfied: psutil in /usr/local/lib/python3.10/dist-packages (from accelerate->llmlingua) (5.9.5)\n",
            "Requirement already satisfied: sympy in /usr/local/lib/python3.10/dist-packages (from torch->llmlingua) (1.13.1)\n",
            "Requirement already satisfied: networkx in /usr/local/lib/python3.10/dist-packages (from torch->llmlingua) (3.3)\n",
            "Requirement already satisfied: jinja2 in /usr/local/lib/python3.10/dist-packages (from torch->llmlingua) (3.1.4)\n",
            "Requirement already satisfied: fsspec in /usr/local/lib/python3.10/dist-packages (from torch->llmlingua) (2024.6.1)\n",
            "Requirement already satisfied: nvidia-cuda-nvrtc-cu12==12.1.105 in /usr/local/lib/python3.10/dist-packages (from torch->llmlingua) (12.1.105)\n",
            "Requirement already satisfied: nvidia-cuda-runtime-cu12==12.1.105 in /usr/local/lib/python3.10/dist-packages (from torch->llmlingua) (12.1.105)\n",
            "Requirement already satisfied: nvidia-cuda-cupti-cu12==12.1.105 in /usr/local/lib/python3.10/dist-packages (from torch->llmlingua) (12.1.105)\n",
            "Requirement already satisfied: nvidia-cudnn-cu12==8.9.2.26 in /usr/local/lib/python3.10/dist-packages (from torch->llmlingua) (8.9.2.26)\n",
            "Requirement already satisfied: nvidia-cublas-cu12==12.1.3.1 in /usr/local/lib/python3.10/dist-packages (from torch->llmlingua) (12.1.3.1)\n",
            "Requirement already satisfied: nvidia-cufft-cu12==11.0.2.54 in /usr/local/lib/python3.10/dist-packages (from torch->llmlingua) (11.0.2.54)\n",
            "Requirement already satisfied: nvidia-curand-cu12==10.3.2.106 in /usr/local/lib/python3.10/dist-packages (from torch->llmlingua) (10.3.2.106)\n",
            "Requirement already satisfied: nvidia-cusolver-cu12==11.4.5.107 in /usr/local/lib/python3.10/dist-packages (from torch->llmlingua) (11.4.5.107)\n",
            "Requirement already satisfied: nvidia-cusparse-cu12==12.1.0.106 in /usr/local/lib/python3.10/dist-packages (from torch->llmlingua) (12.1.0.106)\n",
            "Requirement already satisfied: nvidia-nccl-cu12==2.20.5 in /usr/local/lib/python3.10/dist-packages (from torch->llmlingua) (2.20.5)\n",
            "Requirement already satisfied: nvidia-nvtx-cu12==12.1.105 in /usr/local/lib/python3.10/dist-packages (from torch->llmlingua) (12.1.105)\n",
            "Requirement already satisfied: triton==2.3.1 in /usr/local/lib/python3.10/dist-packages (from torch->llmlingua) (2.3.1)\n",
            "Requirement already satisfied: nvidia-nvjitlink-cu12 in /usr/local/lib/python3.10/dist-packages (from nvidia-cusolver-cu12==11.4.5.107->torch->llmlingua) (12.5.82)\n",
            "Requirement already satisfied: click in /usr/local/lib/python3.10/dist-packages (from nltk->llmlingua) (8.1.7)\n",
            "Requirement already satisfied: joblib in /usr/local/lib/python3.10/dist-packages (from nltk->llmlingua) (1.4.2)\n",
            "Requirement already satisfied: charset-normalizer<4,>=2 in /usr/local/lib/python3.10/dist-packages (from requests->transformers>=4.26.0->llmlingua) (3.3.2)\n",
            "Requirement already satisfied: urllib3<3,>=1.21.1 in /usr/local/lib/python3.10/dist-packages (from requests->transformers>=4.26.0->llmlingua) (2.0.7)\n",
            "Requirement already satisfied: MarkupSafe>=2.0 in /usr/local/lib/python3.10/dist-packages (from jinja2->torch->llmlingua) (2.1.5)\n",
            "Requirement already satisfied: mpmath<1.4,>=1.1.0 in /usr/local/lib/python3.10/dist-packages (from sympy->torch->llmlingua) (1.3.0)\n",
            "Downloading openai-1.37.1-py3-none-any.whl (337 kB)\n",
            "\u001b[2K   \u001b[90m━━━━━━━━━━━━━━━━━━━━━━━━━━━━━━━━━━━━━━━━\u001b[0m \u001b[32m337.0/337.0 kB\u001b[0m \u001b[31m10.2 MB/s\u001b[0m eta \u001b[36m0:00:00\u001b[0m\n",
            "\u001b[?25hDownloading httpx-0.27.0-py3-none-any.whl (75 kB)\n",
            "\u001b[2K   \u001b[90m━━━━━━━━━━━━━━━━━━━━━━━━━━━━━━━━━━━━━━━━\u001b[0m \u001b[32m75.6/75.6 kB\u001b[0m \u001b[31m6.5 MB/s\u001b[0m eta \u001b[36m0:00:00\u001b[0m\n",
            "\u001b[?25hDownloading httpcore-1.0.5-py3-none-any.whl (77 kB)\n",
            "\u001b[2K   \u001b[90m━━━━━━━━━━━━━━━━━━━━━━━━━━━━━━━━━━━━━━━━\u001b[0m \u001b[32m77.9/77.9 kB\u001b[0m \u001b[31m4.9 MB/s\u001b[0m eta \u001b[36m0:00:00\u001b[0m\n",
            "\u001b[?25hDownloading h11-0.14.0-py3-none-any.whl (58 kB)\n",
            "\u001b[2K   \u001b[90m━━━━━━━━━━━━━━━━━━━━━━━━━━━━━━━━━━━━━━━━\u001b[0m \u001b[32m58.3/58.3 kB\u001b[0m \u001b[31m4.7 MB/s\u001b[0m eta \u001b[36m0:00:00\u001b[0m\n",
            "\u001b[?25hInstalling collected packages: h11, httpcore, httpx, openai\n",
            "Successfully installed h11-0.14.0 httpcore-1.0.5 httpx-0.27.0 openai-1.37.1\n"
          ]
        }
      ]
    },
    {
      "cell_type": "code",
      "source": [
        "from llmlingua import PromptCompressor\n",
        "\n",
        "llm_lingua = PromptCompressor(\n",
        "    model_name=\"microsoft/llmlingua-2-bert-base-multilingual-cased-meetingbank\",\n",
        "    use_llmlingua2=True, # Whether to use llmlingua-2\n",
        ")"
      ],
      "metadata": {
        "id": "UWsTFkpQo2hc"
      },
      "execution_count": 9,
      "outputs": []
    },
    {
      "cell_type": "code",
      "source": [
        "prompt = \"\"\"\n",
        "You are a customer service AI for Kakao, tasked with directing customer inquiries to the appropriate department. You will be given a customer's question, and your job is to determine which department it should be directed to.\n",
        "\n",
        "Here is the customer's question:\n",
        "<customer_question>\n",
        "{{CUSTOMER_QUESTION}}\n",
        "</customer_question>\n",
        "\n",
        "There are three departments that handle different types of inquiries:\n",
        "\n",
        "1. General KakaoTalk Inquiries\n",
        "2. Kakao Account Inquiries\n",
        "3. Kakao Game Inquiries\n",
        "\n",
        "Analyze the customer's question carefully. Consider the following guidelines:\n",
        "\n",
        "- General KakaoTalk Inquiries handle questions about messaging, calls, group chats, and general app functionality.\n",
        "- Kakao Account Inquiries deal with login issues, account recovery, personal information, and security concerns.\n",
        "- Kakao Game Inquiries are for any questions related to Kakao games, including gameplay, purchases, and technical issues within games.\n",
        "\n",
        "First, provide your reasoning for why you believe the question belongs to a particular department. Include this reasoning within <reasoning> tags.\n",
        "\n",
        "Then, based on your analysis, select the most appropriate department for this inquiry. Provide your final department selection within <department> tags.\n",
        "\n",
        "Remember to consider the content and context of the customer's question when making your decision. If the question is ambiguous or could potentially belong to multiple departments, choose the one that seems most relevant based on the primary concern expressed in the question.\n",
        "\"\"\""
      ],
      "metadata": {
        "id": "y7taCYozpEwX"
      },
      "execution_count": 11,
      "outputs": []
    },
    {
      "cell_type": "code",
      "source": [
        "compressed_prompt = llm_lingua.compress_prompt(prompt, instruction=\"\", question=\"\", target_token=200)\n",
        "print(compressed_prompt)"
      ],
      "metadata": {
        "colab": {
          "base_uri": "https://localhost:8080/"
        },
        "id": "W9sN_VFZpHIE",
        "outputId": "89eacdb6-e40e-4df7-fd32-5a884f782b70"
      },
      "execution_count": 13,
      "outputs": [
        {
          "output_type": "stream",
          "name": "stdout",
          "text": [
            "{'compressed_prompt': \"customer service AI for Kakao directing customer inquiries to appropriate department given customer ' s question job to determine which department directed to. customer ' s question : < customer _ question > { CUSTOMER _ QUESTION } } three departments handle different types inquiries : 1. General KakaoTalk Inquiries 2. Kakao Account Inquiries 3. Kakao Game Inquiries Analyze customer ' s question. Consider guidelines : General KakaoTalk Inquiries handle questions about messaging calls group chats general app functionality Kakao Account Inquiries deal with login issues account recovery personal information security concerns. Kakao Game Inquiries for any questions related to Kakao games including gameplay, purchases technical issues provide reasoning for why question belongs to particular department Include reasoning within < reasoning > tags analysis select most appropriate department for inquiry. Provide final department selection within < department > tags consider content and context of customer ' s question decision. If question ambiguous or could potentially belong to multiple departments choose one seems most relevant based on primary concern.\", 'compressed_prompt_list': [\"customer service AI for Kakao directing customer inquiries to appropriate department given customer ' s question job to determine which department directed to. customer ' s question : < customer _ question > { CUSTOMER _ QUESTION } } three departments handle different types inquiries : 1. General KakaoTalk Inquiries 2. Kakao Account Inquiries 3. Kakao Game Inquiries Analyze customer ' s question. Consider guidelines : General KakaoTalk Inquiries handle questions about messaging calls group chats general app functionality Kakao Account Inquiries deal with login issues account recovery personal information security concerns. Kakao Game Inquiries for any questions related to Kakao games including gameplay, purchases technical issues provide reasoning for why question belongs to particular department Include reasoning within < reasoning > tags analysis select most appropriate department for inquiry. Provide final department selection within < department > tags consider content and context of customer ' s question decision. If question ambiguous or could potentially belong to multiple departments choose one seems most relevant based on primary concern.\"], 'origin_tokens': 284, 'compressed_tokens': 199, 'ratio': '1.4x', 'rate': '70.1%', 'saving': ', Saving $0.0 in GPT-4.'}\n"
          ]
        }
      ]
    },
    {
      "cell_type": "code",
      "source": [
        "print('original prompt length: ', len(prompt))\n",
        "print('compressed prompt length: ',len(compressed_prompt['compressed_prompt']))\n",
        "compressed_prompt['compressed_prompt']"
      ],
      "metadata": {
        "colab": {
          "base_uri": "https://localhost:8080/",
          "height": 161
        },
        "id": "jL5O1io95euB",
        "outputId": "4f216030-1b09-49d3-a652-79942c133d3a"
      },
      "execution_count": 14,
      "outputs": [
        {
          "output_type": "stream",
          "name": "stdout",
          "text": [
            "original prompt length:  1501\n",
            "compressed prompt length:  1165\n"
          ]
        },
        {
          "output_type": "execute_result",
          "data": {
            "text/plain": [
              "\"customer service AI for Kakao directing customer inquiries to appropriate department given customer ' s question job to determine which department directed to. customer ' s question : < customer _ question > { CUSTOMER _ QUESTION } } three departments handle different types inquiries : 1. General KakaoTalk Inquiries 2. Kakao Account Inquiries 3. Kakao Game Inquiries Analyze customer ' s question. Consider guidelines : General KakaoTalk Inquiries handle questions about messaging calls group chats general app functionality Kakao Account Inquiries deal with login issues account recovery personal information security concerns. Kakao Game Inquiries for any questions related to Kakao games including gameplay, purchases technical issues provide reasoning for why question belongs to particular department Include reasoning within < reasoning > tags analysis select most appropriate department for inquiry. Provide final department selection within < department > tags consider content and context of customer ' s question decision. If question ambiguous or could potentially belong to multiple departments choose one seems most relevant based on primary concern.\""
            ],
            "application/vnd.google.colaboratory.intrinsic+json": {
              "type": "string"
            }
          },
          "metadata": {},
          "execution_count": 14
        }
      ]
    },
    {
      "cell_type": "code",
      "source": [
        "from openai import OpenAI\n",
        "\n",
        "client = OpenAI()"
      ],
      "metadata": {
        "id": "3LxVZGrQpYzo"
      },
      "execution_count": 18,
      "outputs": []
    },
    {
      "cell_type": "code",
      "source": [
        "def query(prompt, command):\n",
        "  completion = client.chat.completions.create(\n",
        "    model=\"gpt-3.5-turbo\",\n",
        "    temperature=0.8,\n",
        "    messages=[\n",
        "        {\n",
        "            \"role\": \"system\",\n",
        "            \"content\": prompt,\n",
        "        },\n",
        "        {\n",
        "            \"role\": \"user\",\n",
        "            \"content\": command,\n",
        "        },\n",
        "    ]\n",
        "  )\n",
        "\n",
        "  return completion.choices[0].message.content"
      ],
      "metadata": {
        "id": "ISGNP7qXqM7V"
      },
      "execution_count": 27,
      "outputs": []
    },
    {
      "cell_type": "code",
      "source": [
        "query(prompt, \"카카오톡PC 버전 사용중인데요, 메세지 발신이 안됩니다.\")"
      ],
      "metadata": {
        "colab": {
          "base_uri": "https://localhost:8080/",
          "height": 72
        },
        "id": "CWj0ntD0rDfi",
        "outputId": "3570efa2-0db9-42e3-d8b5-70eeb6727d7b"
      },
      "execution_count": 31,
      "outputs": [
        {
          "output_type": "execute_result",
          "data": {
            "text/plain": [
              "\"<reasoning>\\nThe customer's question pertains to an issue with sending messages on the KakaoTalk PC version. This issue is related to messaging functionality within the KakaoTalk application. Since the problem specifically involves messaging and communication features of KakaoTalk, it falls under General KakaoTalk Inquiries.\\n</reasoning>\\n\\n<department>\\nGeneral KakaoTalk Inquiries\\n</department>\""
            ],
            "application/vnd.google.colaboratory.intrinsic+json": {
              "type": "string"
            }
          },
          "metadata": {},
          "execution_count": 31
        }
      ]
    },
    {
      "cell_type": "code",
      "source": [
        "query(compressed_prompt['compressed_prompt'], \"카카오톡PC 버전 사용중인데요, 메세지 발신이 안됩니다.\")"
      ],
      "metadata": {
        "colab": {
          "base_uri": "https://localhost:8080/",
          "height": 54
        },
        "id": "pEUPwgBgqX97",
        "outputId": "7a5708d3-3f9b-4b5d-e5b1-4aba1846afe7"
      },
      "execution_count": 28,
      "outputs": [
        {
          "output_type": "execute_result",
          "data": {
            "text/plain": [
              "'< reasoning > The customer is experiencing an issue with sending messages on the KakaoTalk PC version, which falls under general app functionality inquiries. This department handles questions about messaging and app functionality. </ reasoning >\\n\\n< department > General KakaoTalk Inquiries </ department >'"
            ],
            "application/vnd.google.colaboratory.intrinsic+json": {
              "type": "string"
            }
          },
          "metadata": {},
          "execution_count": 28
        }
      ]
    },
    {
      "cell_type": "code",
      "source": [
        "query(prompt, \"카카오게임즈 환불 문의\\n안녕하세요, 결제가 이중결제 되었습니다. 환불해주세요.\")"
      ],
      "metadata": {
        "colab": {
          "base_uri": "https://localhost:8080/",
          "height": 72
        },
        "id": "he9NDiXGrGrt",
        "outputId": "f4de6639-7f7f-4519-cfe6-16e5f57e6daf"
      },
      "execution_count": 32,
      "outputs": [
        {
          "output_type": "execute_result",
          "data": {
            "text/plain": [
              "\"<reasoning>\\nThe customer's question specifically mentions an issue related to a payment error (이중결제/double payment) within a Kakao game. The customer is requesting a refund for the double charge. This indicates that the inquiry is directly related to a transactional issue within a Kakao game, which falls under Kakao Game Inquiries department.\\n</reasoning>\\n\\n<department>\\nKakao Game Inquiries\\n</department>\""
            ],
            "application/vnd.google.colaboratory.intrinsic+json": {
              "type": "string"
            }
          },
          "metadata": {},
          "execution_count": 32
        }
      ]
    },
    {
      "cell_type": "code",
      "source": [
        "query(compressed_prompt['compressed_prompt'], \"카카오게임즈 환불 문의\\n안녕하세요, 결제가 이중결제 되었습니다. 환불해주세요.\")"
      ],
      "metadata": {
        "colab": {
          "base_uri": "https://localhost:8080/",
          "height": 54
        },
        "id": "vF79_3jTqHWN",
        "outputId": "c74427b6-2d1d-49d5-d88f-ff737d451906"
      },
      "execution_count": 29,
      "outputs": [
        {
          "output_type": "execute_result",
          "data": {
            "text/plain": [
              "'< reasoning >\\nThe customer is specifically mentioning a payment issue regarding a double charge and requesting a refund, which is directly related to financial transactions within a Kakao game. This falls under the category of Kakao Game Inquiries.\\n</ reasoning >\\n\\n< department >\\nKakao Game Inquiries\\n</ department >'"
            ],
            "application/vnd.google.colaboratory.intrinsic+json": {
              "type": "string"
            }
          },
          "metadata": {},
          "execution_count": 29
        }
      ]
    },
    {
      "cell_type": "code",
      "source": [
        "query(prompt, \"계정 로그인이 안됩니다. 비밀번호도 맞게 입력했는데 로그인이 안돼요\")"
      ],
      "metadata": {
        "colab": {
          "base_uri": "https://localhost:8080/",
          "height": 72
        },
        "id": "pwVDCRBurJND",
        "outputId": "4ec4e835-7c46-4c07-9e73-7f8eef8eba32"
      },
      "execution_count": 33,
      "outputs": [
        {
          "output_type": "execute_result",
          "data": {
            "text/plain": [
              "\"<reasoning>\\nThe customer's question specifically mentions having trouble logging into their account even though they have correctly entered their password. This issue falls under Kakao Account Inquiries as it relates to login problems and account access. Additionally, the mention of password verification aligns with concerns related to personal information and security, which are typically handled by the Kakao Account department.\\n</reasoning>\\n<department>\\nKakao Account Inquiries\\n</department>\""
            ],
            "application/vnd.google.colaboratory.intrinsic+json": {
              "type": "string"
            }
          },
          "metadata": {},
          "execution_count": 33
        }
      ]
    },
    {
      "cell_type": "code",
      "source": [
        "query(compressed_prompt['compressed_prompt'], \"계정 로그인이 안됩니다. 비밀번호도 맞게 입력했는데 로그인이 안돼요\")"
      ],
      "metadata": {
        "colab": {
          "base_uri": "https://localhost:8080/",
          "height": 54
        },
        "id": "KmzSsvmSqgfw",
        "outputId": "a3b89112-5244-4301-a0ca-26ee30bc6bca"
      },
      "execution_count": 30,
      "outputs": [
        {
          "output_type": "execute_result",
          "data": {
            "text/plain": [
              "'< reasoning >The customer is experiencing difficulty with logging into their account despite entering the correct password. This indicates a specific issue related to Kakao account login, which falls under Kakao Account Inquiries department.</ reasoning >\\n\\n< department >Kakao Account Inquiries</ department >'"
            ],
            "application/vnd.google.colaboratory.intrinsic+json": {
              "type": "string"
            }
          },
          "metadata": {},
          "execution_count": 30
        }
      ]
    },
    {
      "cell_type": "code",
      "source": [],
      "metadata": {
        "id": "aPndebNFqj7N"
      },
      "execution_count": null,
      "outputs": []
    }
  ]
}